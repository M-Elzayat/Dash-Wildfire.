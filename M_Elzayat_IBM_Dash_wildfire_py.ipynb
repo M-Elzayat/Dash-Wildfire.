{
  "nbformat": 4,
  "nbformat_minor": 0,
  "metadata": {
    "colab": {
      "provenance": []
    },
    "kernelspec": {
      "name": "python3",
      "display_name": "Python 3"
    },
    "language_info": {
      "name": "python"
    }
  },
  "cells": [
    {
      "cell_type": "code",
      "execution_count": 9,
      "metadata": {
        "colab": {
          "base_uri": "https://localhost:8080/"
        },
        "id": "C_qE2XhaU9mV",
        "outputId": "bd8724f6-82e5-4c79-bd66-ff87bfc3beea"
      },
      "outputs": [
        {
          "output_type": "stream",
          "name": "stdout",
          "text": [
            "Requirement already satisfied: dash in /usr/local/lib/python3.11/dist-packages (3.0.4)\n",
            "Requirement already satisfied: Flask<3.1,>=1.0.4 in /usr/local/lib/python3.11/dist-packages (from dash) (3.0.3)\n",
            "Requirement already satisfied: Werkzeug<3.1 in /usr/local/lib/python3.11/dist-packages (from dash) (3.0.6)\n",
            "Requirement already satisfied: plotly>=5.0.0 in /usr/local/lib/python3.11/dist-packages (from dash) (5.24.1)\n",
            "Requirement already satisfied: importlib-metadata in /usr/local/lib/python3.11/dist-packages (from dash) (8.7.0)\n",
            "Requirement already satisfied: typing-extensions>=4.1.1 in /usr/local/lib/python3.11/dist-packages (from dash) (4.13.2)\n",
            "Requirement already satisfied: requests in /usr/local/lib/python3.11/dist-packages (from dash) (2.32.3)\n",
            "Requirement already satisfied: retrying in /usr/local/lib/python3.11/dist-packages (from dash) (1.3.4)\n",
            "Requirement already satisfied: nest-asyncio in /usr/local/lib/python3.11/dist-packages (from dash) (1.6.0)\n",
            "Requirement already satisfied: setuptools in /usr/local/lib/python3.11/dist-packages (from dash) (75.2.0)\n",
            "Requirement already satisfied: Jinja2>=3.1.2 in /usr/local/lib/python3.11/dist-packages (from Flask<3.1,>=1.0.4->dash) (3.1.6)\n",
            "Requirement already satisfied: itsdangerous>=2.1.2 in /usr/local/lib/python3.11/dist-packages (from Flask<3.1,>=1.0.4->dash) (2.2.0)\n",
            "Requirement already satisfied: click>=8.1.3 in /usr/local/lib/python3.11/dist-packages (from Flask<3.1,>=1.0.4->dash) (8.2.0)\n",
            "Requirement already satisfied: blinker>=1.6.2 in /usr/local/lib/python3.11/dist-packages (from Flask<3.1,>=1.0.4->dash) (1.9.0)\n",
            "Requirement already satisfied: tenacity>=6.2.0 in /usr/local/lib/python3.11/dist-packages (from plotly>=5.0.0->dash) (9.1.2)\n",
            "Requirement already satisfied: packaging in /usr/local/lib/python3.11/dist-packages (from plotly>=5.0.0->dash) (24.2)\n",
            "Requirement already satisfied: MarkupSafe>=2.1.1 in /usr/local/lib/python3.11/dist-packages (from Werkzeug<3.1->dash) (3.0.2)\n",
            "Requirement already satisfied: zipp>=3.20 in /usr/local/lib/python3.11/dist-packages (from importlib-metadata->dash) (3.21.0)\n",
            "Requirement already satisfied: charset-normalizer<4,>=2 in /usr/local/lib/python3.11/dist-packages (from requests->dash) (3.4.2)\n",
            "Requirement already satisfied: idna<4,>=2.5 in /usr/local/lib/python3.11/dist-packages (from requests->dash) (3.10)\n",
            "Requirement already satisfied: urllib3<3,>=1.21.1 in /usr/local/lib/python3.11/dist-packages (from requests->dash) (2.4.0)\n",
            "Requirement already satisfied: certifi>=2017.4.17 in /usr/local/lib/python3.11/dist-packages (from requests->dash) (2025.4.26)\n",
            "Requirement already satisfied: six>=1.7.0 in /usr/local/lib/python3.11/dist-packages (from retrying->dash) (1.17.0)\n"
          ]
        }
      ],
      "source": [
        "!pip install dash"
      ]
    },
    {
      "cell_type": "code",
      "source": [
        "import pandas as pd\n",
        "import dash\n",
        "from dash import html, dcc\n",
        "from dash.dependencies import Input, Output\n",
        "import plotly.express as px\n",
        "\n",
        "app = dash.Dash(__name__)\n",
        "app.config.suppress_callback_exceptions = True\n",
        "\n",
        "df = pd.read_csv(\n",
        "    'https://cf-courses-data.s3.us.cloud-object-storage.appdomain.cloud/IBMDeveloperSkillsNetwork-DV0101EN-SkillsNetwork/Data%20Files/Historical_Wildfires.csv'\n",
        ")\n",
        "\n",
        "df['Month'] = pd.to_datetime(df['Date']).dt.month_name()\n",
        "df['Year'] = pd.to_datetime(df['Date']).dt.year\n",
        "\n",
        "app.layout = html.Div(children=[\n",
        "    html.H1('Australia Wildfire Dashboard',\n",
        "            style={'textAlign': 'center', 'color': '#503D36', 'font-size': 26}),\n",
        "\n",
        "    html.Div([\n",
        "        html.Div([\n",
        "            html.H2('Select Region:', style={'margin-right': '2em'}),\n",
        "            dcc.RadioItems([\n",
        "                {\"label\": \"New South Wales\", \"value\": \"NSW\"},\n",
        "                {\"label\": \"Northern Territory\", \"value\": \"NT\"},\n",
        "                {\"label\": \"Queensland\", \"value\": \"QL\"},\n",
        "                {\"label\": \"South Australia\", \"value\": \"SA\"},\n",
        "                {\"label\": \"Tasmania\", \"value\": \"TA\"},\n",
        "                {\"label\": \"Victoria\", \"value\": \"VI\"},\n",
        "                {\"label\": \"Western Australia\", \"value\": \"WA\"},\n",
        "            ], value=\"NSW\", id='region', inline=True),\n",
        "\n",
        "            html.H2('Select Year:', style={'margin-right': '2em'}),\n",
        "            dcc.Dropdown(df['Year'].unique(), value=2005, id='year')\n",
        "        ]),\n",
        "\n",
        "        html.Div([\n",
        "            html.Div([], id='plot1'),\n",
        "            html.Div([], id='plot2')\n",
        "        ], style={'display': 'flex', 'flex-direction': 'row'})\n",
        "    ])\n",
        "])\n",
        "\n",
        "@app.callback(\n",
        "    [Output('plot1', 'children'),\n",
        "     Output('plot2', 'children')],\n",
        "    [Input('region', 'value'),\n",
        "     Input('year', 'value')]\n",
        ")\n",
        "def reg_year_display(input_region, input_year):\n",
        "    region_data = df[df['Region'] == input_region]\n",
        "    y_r_data = region_data[region_data['Year'] == input_year]\n",
        "    est_data = y_r_data.groupby('Month')['Estimated_fire_area'].mean().reset_index()\n",
        "    fig1 = px.pie(est_data, values='Estimated_fire_area', names='Month',\n",
        "                  title=f\"{input_region} : Monthly Average Estimated Fire Area in {input_year}\")\n",
        "    veg_data = y_r_data.groupby('Month')['Count'].mean().reset_index()\n",
        "    fig2 = px.bar(veg_data, x='Month', y='Count',\n",
        "                  title=f\"{input_region} : Avg. Count of Pixels for Presumed Vegetation Fires in {input_year}\")\n",
        "\n",
        "    return [dcc.Graph(figure=fig1), dcc.Graph(figure=fig2)]\n",
        "\n",
        "if __name__ == '__main__':\n",
        "    app.run(debug=True)\n"
      ],
      "metadata": {
        "colab": {
          "base_uri": "https://localhost:8080/",
          "height": 671
        },
        "id": "IC6IU443VvtF",
        "outputId": "d3e1290f-d537-4fc0-ab94-a0ca2a22451f"
      },
      "execution_count": 18,
      "outputs": [
        {
          "output_type": "display_data",
          "data": {
            "text/plain": [
              "<IPython.core.display.Javascript object>"
            ],
            "application/javascript": [
              "(async (port, path, width, height, cache, element) => {\n",
              "    if (!google.colab.kernel.accessAllowed && !cache) {\n",
              "      return;\n",
              "    }\n",
              "    element.appendChild(document.createTextNode(''));\n",
              "    const url = await google.colab.kernel.proxyPort(port, {cache});\n",
              "    const iframe = document.createElement('iframe');\n",
              "    iframe.src = new URL(path, url).toString();\n",
              "    iframe.height = height;\n",
              "    iframe.width = width;\n",
              "    iframe.style.border = 0;\n",
              "    iframe.allow = [\n",
              "        'accelerometer',\n",
              "        'autoplay',\n",
              "        'camera',\n",
              "        'clipboard-read',\n",
              "        'clipboard-write',\n",
              "        'gyroscope',\n",
              "        'magnetometer',\n",
              "        'microphone',\n",
              "        'serial',\n",
              "        'usb',\n",
              "        'xr-spatial-tracking',\n",
              "    ].join('; ');\n",
              "    element.appendChild(iframe);\n",
              "  })(8050, \"/\", \"100%\", 650, false, window.element)"
            ]
          },
          "metadata": {}
        }
      ]
    }
  ]
}